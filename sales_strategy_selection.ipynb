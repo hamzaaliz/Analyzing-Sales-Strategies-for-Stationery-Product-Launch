{
  "cells": [
    {
      "cell_type": "markdown",
      "source": [
        "# Analyzing Sales Strategies for Stationery Product Launch"
      ],
      "metadata": {
        "id": "aosSF49PkTPS"
      },
      "id": "aosSF49PkTPS"
    },
    {
      "cell_type": "markdown",
      "source": [
        "##1. Introduction"
      ],
      "metadata": {
        "id": "9HrJHy58k6B9"
      },
      "id": "9HrJHy58k6B9"
    },
    {
      "cell_type": "markdown",
      "source": [
        "### Project Overview\n",
        "This project is initiated by the Analytics Head at Pens and Printers, a company known for selling quality office products since 1984. The company has recently launched a new line of office stationery and is exploring different sales strategies to boost sales and profitability. The focus of this project is to analyze sales data from three different strategies—emails, phone calls, and a combination of both—to find out which method works best for selling the new products."
      ],
      "metadata": {
        "id": "Q4fqkXzDlCqk"
      },
      "id": "Q4fqkXzDlCqk"
    },
    {
      "cell_type": "markdown",
      "source": [
        "### Objectives\n",
        "The main goals of this project are:\n",
        "\n",
        "1. **Analyze Sales Data**: Review sales data from three different strategies used for the new product line.\n",
        "2. **Understand Customer Engagement**: Check how different sales methods impact customer reach and revenue.\n",
        "3. **Recommend the Best Sales Strategy**: Suggest the most effective strategy that uses less effort, increases profits, and improves customer satisfaction.\n",
        "\n",
        "\n"
      ],
      "metadata": {
        "id": "JrjIYV6Zl4h8"
      },
      "id": "JrjIYV6Zl4h8"
    },
    {
      "cell_type": "markdown",
      "source": [
        "### Dataset Description\n",
        "The dataset for this analysis can be downloaded using the following link:\n",
        "https://www.kaggle.com/datasets/lorenzovzquez/pens-and-printers-product-saleshas\n",
        "\n",
        "Here are the key features of the dataset:\n",
        "\n",
        "* **week**: The week in which the sale was made, counted as weeks since the product launch.\n",
        "* **sales_method**: The method of sale used for the customer (Email, Call, Email and Call).\n",
        "* **customer_id**: A unique identifier for each customer.\n",
        "* **nb_sold**: Number of new products sold to the customer.\n",
        "* **revenue**: Revenue generated from the sales, rounded to two decimal places.\n",
        "* **years_as_customer**: How long the customer has been purchasing from Pens and Printers.\n",
        "* **nb_site_visits**: The number of times the customer visited the company's website in the last six months.\n",
        "* **state**: The U.S. state where the customer is located.\n",
        "\n",
        "\n"
      ],
      "metadata": {
        "id": "kApG4gnrmrF4"
      },
      "id": "kApG4gnrmrF4"
    },
    {
      "cell_type": "markdown",
      "source": [
        "##2. Dataset Loading and Overview"
      ],
      "metadata": {
        "id": "40alZD8mqGZF"
      },
      "id": "40alZD8mqGZF"
    },
    {
      "cell_type": "markdown",
      "source": [
        "### Importing Libraries"
      ],
      "metadata": {
        "id": "Inaepybvqrlk"
      },
      "id": "Inaepybvqrlk"
    },
    {
      "cell_type": "code",
      "source": [
        "import numpy as np\n",
        "import pandas as pd\n",
        "import matplotlib.pyplot as plt\n",
        "import seaborn as sns\n",
        "sns.set_style(\"darkgrid\")"
      ],
      "metadata": {
        "id": "PyFi6MULqzCP"
      },
      "id": "PyFi6MULqzCP",
      "execution_count": 142,
      "outputs": []
    },
    {
      "cell_type": "markdown",
      "source": [
        "### Load the Dataset into a Pandas DataFrame"
      ],
      "metadata": {
        "id": "2Nt_b_3vrI6Z"
      },
      "id": "2Nt_b_3vrI6Z"
    },
    {
      "cell_type": "code",
      "source": [
        "dataset = pd.read_csv('product_sales.csv')"
      ],
      "metadata": {
        "id": "X8g34jkZrPR4"
      },
      "id": "X8g34jkZrPR4",
      "execution_count": 143,
      "outputs": []
    },
    {
      "cell_type": "markdown",
      "source": [
        "### Data Overview"
      ],
      "metadata": {
        "id": "AhWnFDY1rZQ3"
      },
      "id": "AhWnFDY1rZQ3"
    },
    {
      "cell_type": "code",
      "source": [
        "dataset.head(5)"
      ],
      "metadata": {
        "colab": {
          "base_uri": "https://localhost:8080/",
          "height": 206
        },
        "id": "WUmtwBk2rbpt",
        "outputId": "0dad351c-0f0d-41a9-970b-ee2867a78fc1"
      },
      "id": "WUmtwBk2rbpt",
      "execution_count": 144,
      "outputs": [
        {
          "output_type": "execute_result",
          "data": {
            "text/plain": [
              "   week  sales_method                           customer_id  nb_sold  revenue  \\\n",
              "0     2         Email  2e72d641-95ac-497b-bbf8-4861764a7097       10      NaN   \n",
              "1     6  Email + Call  3998a98d-70f5-44f7-942e-789bb8ad2fe7       15   225.47   \n",
              "2     5          Call  d1de9884-8059-4065-b10f-86eef57e4a44       11    52.55   \n",
              "3     4         Email  78aa75a4-ffeb-4817-b1d0-2f030783c5d7       11      NaN   \n",
              "4     3         Email  10e6d446-10a5-42e5-8210-1b5438f70922        9    90.49   \n",
              "\n",
              "   years_as_customer  nb_site_visits      state  \n",
              "0                  0              24    Arizona  \n",
              "1                  1              28     Kansas  \n",
              "2                  6              26  Wisconsin  \n",
              "3                  3              25    Indiana  \n",
              "4                  0              28   Illinois  "
            ],
            "text/html": [
              "\n",
              "  <div id=\"df-be869627-9301-4ded-b1c8-73556838b782\" class=\"colab-df-container\">\n",
              "    <div>\n",
              "<style scoped>\n",
              "    .dataframe tbody tr th:only-of-type {\n",
              "        vertical-align: middle;\n",
              "    }\n",
              "\n",
              "    .dataframe tbody tr th {\n",
              "        vertical-align: top;\n",
              "    }\n",
              "\n",
              "    .dataframe thead th {\n",
              "        text-align: right;\n",
              "    }\n",
              "</style>\n",
              "<table border=\"1\" class=\"dataframe\">\n",
              "  <thead>\n",
              "    <tr style=\"text-align: right;\">\n",
              "      <th></th>\n",
              "      <th>week</th>\n",
              "      <th>sales_method</th>\n",
              "      <th>customer_id</th>\n",
              "      <th>nb_sold</th>\n",
              "      <th>revenue</th>\n",
              "      <th>years_as_customer</th>\n",
              "      <th>nb_site_visits</th>\n",
              "      <th>state</th>\n",
              "    </tr>\n",
              "  </thead>\n",
              "  <tbody>\n",
              "    <tr>\n",
              "      <th>0</th>\n",
              "      <td>2</td>\n",
              "      <td>Email</td>\n",
              "      <td>2e72d641-95ac-497b-bbf8-4861764a7097</td>\n",
              "      <td>10</td>\n",
              "      <td>NaN</td>\n",
              "      <td>0</td>\n",
              "      <td>24</td>\n",
              "      <td>Arizona</td>\n",
              "    </tr>\n",
              "    <tr>\n",
              "      <th>1</th>\n",
              "      <td>6</td>\n",
              "      <td>Email + Call</td>\n",
              "      <td>3998a98d-70f5-44f7-942e-789bb8ad2fe7</td>\n",
              "      <td>15</td>\n",
              "      <td>225.47</td>\n",
              "      <td>1</td>\n",
              "      <td>28</td>\n",
              "      <td>Kansas</td>\n",
              "    </tr>\n",
              "    <tr>\n",
              "      <th>2</th>\n",
              "      <td>5</td>\n",
              "      <td>Call</td>\n",
              "      <td>d1de9884-8059-4065-b10f-86eef57e4a44</td>\n",
              "      <td>11</td>\n",
              "      <td>52.55</td>\n",
              "      <td>6</td>\n",
              "      <td>26</td>\n",
              "      <td>Wisconsin</td>\n",
              "    </tr>\n",
              "    <tr>\n",
              "      <th>3</th>\n",
              "      <td>4</td>\n",
              "      <td>Email</td>\n",
              "      <td>78aa75a4-ffeb-4817-b1d0-2f030783c5d7</td>\n",
              "      <td>11</td>\n",
              "      <td>NaN</td>\n",
              "      <td>3</td>\n",
              "      <td>25</td>\n",
              "      <td>Indiana</td>\n",
              "    </tr>\n",
              "    <tr>\n",
              "      <th>4</th>\n",
              "      <td>3</td>\n",
              "      <td>Email</td>\n",
              "      <td>10e6d446-10a5-42e5-8210-1b5438f70922</td>\n",
              "      <td>9</td>\n",
              "      <td>90.49</td>\n",
              "      <td>0</td>\n",
              "      <td>28</td>\n",
              "      <td>Illinois</td>\n",
              "    </tr>\n",
              "  </tbody>\n",
              "</table>\n",
              "</div>\n",
              "    <div class=\"colab-df-buttons\">\n",
              "\n",
              "  <div class=\"colab-df-container\">\n",
              "    <button class=\"colab-df-convert\" onclick=\"convertToInteractive('df-be869627-9301-4ded-b1c8-73556838b782')\"\n",
              "            title=\"Convert this dataframe to an interactive table.\"\n",
              "            style=\"display:none;\">\n",
              "\n",
              "  <svg xmlns=\"http://www.w3.org/2000/svg\" height=\"24px\" viewBox=\"0 -960 960 960\">\n",
              "    <path d=\"M120-120v-720h720v720H120Zm60-500h600v-160H180v160Zm220 220h160v-160H400v160Zm0 220h160v-160H400v160ZM180-400h160v-160H180v160Zm440 0h160v-160H620v160ZM180-180h160v-160H180v160Zm440 0h160v-160H620v160Z\"/>\n",
              "  </svg>\n",
              "    </button>\n",
              "\n",
              "  <style>\n",
              "    .colab-df-container {\n",
              "      display:flex;\n",
              "      gap: 12px;\n",
              "    }\n",
              "\n",
              "    .colab-df-convert {\n",
              "      background-color: #E8F0FE;\n",
              "      border: none;\n",
              "      border-radius: 50%;\n",
              "      cursor: pointer;\n",
              "      display: none;\n",
              "      fill: #1967D2;\n",
              "      height: 32px;\n",
              "      padding: 0 0 0 0;\n",
              "      width: 32px;\n",
              "    }\n",
              "\n",
              "    .colab-df-convert:hover {\n",
              "      background-color: #E2EBFA;\n",
              "      box-shadow: 0px 1px 2px rgba(60, 64, 67, 0.3), 0px 1px 3px 1px rgba(60, 64, 67, 0.15);\n",
              "      fill: #174EA6;\n",
              "    }\n",
              "\n",
              "    .colab-df-buttons div {\n",
              "      margin-bottom: 4px;\n",
              "    }\n",
              "\n",
              "    [theme=dark] .colab-df-convert {\n",
              "      background-color: #3B4455;\n",
              "      fill: #D2E3FC;\n",
              "    }\n",
              "\n",
              "    [theme=dark] .colab-df-convert:hover {\n",
              "      background-color: #434B5C;\n",
              "      box-shadow: 0px 1px 3px 1px rgba(0, 0, 0, 0.15);\n",
              "      filter: drop-shadow(0px 1px 2px rgba(0, 0, 0, 0.3));\n",
              "      fill: #FFFFFF;\n",
              "    }\n",
              "  </style>\n",
              "\n",
              "    <script>\n",
              "      const buttonEl =\n",
              "        document.querySelector('#df-be869627-9301-4ded-b1c8-73556838b782 button.colab-df-convert');\n",
              "      buttonEl.style.display =\n",
              "        google.colab.kernel.accessAllowed ? 'block' : 'none';\n",
              "\n",
              "      async function convertToInteractive(key) {\n",
              "        const element = document.querySelector('#df-be869627-9301-4ded-b1c8-73556838b782');\n",
              "        const dataTable =\n",
              "          await google.colab.kernel.invokeFunction('convertToInteractive',\n",
              "                                                    [key], {});\n",
              "        if (!dataTable) return;\n",
              "\n",
              "        const docLinkHtml = 'Like what you see? Visit the ' +\n",
              "          '<a target=\"_blank\" href=https://colab.research.google.com/notebooks/data_table.ipynb>data table notebook</a>'\n",
              "          + ' to learn more about interactive tables.';\n",
              "        element.innerHTML = '';\n",
              "        dataTable['output_type'] = 'display_data';\n",
              "        await google.colab.output.renderOutput(dataTable, element);\n",
              "        const docLink = document.createElement('div');\n",
              "        docLink.innerHTML = docLinkHtml;\n",
              "        element.appendChild(docLink);\n",
              "      }\n",
              "    </script>\n",
              "  </div>\n",
              "\n",
              "\n",
              "<div id=\"df-610195cf-711e-4a33-bc1a-0a0b1600cb0d\">\n",
              "  <button class=\"colab-df-quickchart\" onclick=\"quickchart('df-610195cf-711e-4a33-bc1a-0a0b1600cb0d')\"\n",
              "            title=\"Suggest charts\"\n",
              "            style=\"display:none;\">\n",
              "\n",
              "<svg xmlns=\"http://www.w3.org/2000/svg\" height=\"24px\"viewBox=\"0 0 24 24\"\n",
              "     width=\"24px\">\n",
              "    <g>\n",
              "        <path d=\"M19 3H5c-1.1 0-2 .9-2 2v14c0 1.1.9 2 2 2h14c1.1 0 2-.9 2-2V5c0-1.1-.9-2-2-2zM9 17H7v-7h2v7zm4 0h-2V7h2v10zm4 0h-2v-4h2v4z\"/>\n",
              "    </g>\n",
              "</svg>\n",
              "  </button>\n",
              "\n",
              "<style>\n",
              "  .colab-df-quickchart {\n",
              "      --bg-color: #E8F0FE;\n",
              "      --fill-color: #1967D2;\n",
              "      --hover-bg-color: #E2EBFA;\n",
              "      --hover-fill-color: #174EA6;\n",
              "      --disabled-fill-color: #AAA;\n",
              "      --disabled-bg-color: #DDD;\n",
              "  }\n",
              "\n",
              "  [theme=dark] .colab-df-quickchart {\n",
              "      --bg-color: #3B4455;\n",
              "      --fill-color: #D2E3FC;\n",
              "      --hover-bg-color: #434B5C;\n",
              "      --hover-fill-color: #FFFFFF;\n",
              "      --disabled-bg-color: #3B4455;\n",
              "      --disabled-fill-color: #666;\n",
              "  }\n",
              "\n",
              "  .colab-df-quickchart {\n",
              "    background-color: var(--bg-color);\n",
              "    border: none;\n",
              "    border-radius: 50%;\n",
              "    cursor: pointer;\n",
              "    display: none;\n",
              "    fill: var(--fill-color);\n",
              "    height: 32px;\n",
              "    padding: 0;\n",
              "    width: 32px;\n",
              "  }\n",
              "\n",
              "  .colab-df-quickchart:hover {\n",
              "    background-color: var(--hover-bg-color);\n",
              "    box-shadow: 0 1px 2px rgba(60, 64, 67, 0.3), 0 1px 3px 1px rgba(60, 64, 67, 0.15);\n",
              "    fill: var(--button-hover-fill-color);\n",
              "  }\n",
              "\n",
              "  .colab-df-quickchart-complete:disabled,\n",
              "  .colab-df-quickchart-complete:disabled:hover {\n",
              "    background-color: var(--disabled-bg-color);\n",
              "    fill: var(--disabled-fill-color);\n",
              "    box-shadow: none;\n",
              "  }\n",
              "\n",
              "  .colab-df-spinner {\n",
              "    border: 2px solid var(--fill-color);\n",
              "    border-color: transparent;\n",
              "    border-bottom-color: var(--fill-color);\n",
              "    animation:\n",
              "      spin 1s steps(1) infinite;\n",
              "  }\n",
              "\n",
              "  @keyframes spin {\n",
              "    0% {\n",
              "      border-color: transparent;\n",
              "      border-bottom-color: var(--fill-color);\n",
              "      border-left-color: var(--fill-color);\n",
              "    }\n",
              "    20% {\n",
              "      border-color: transparent;\n",
              "      border-left-color: var(--fill-color);\n",
              "      border-top-color: var(--fill-color);\n",
              "    }\n",
              "    30% {\n",
              "      border-color: transparent;\n",
              "      border-left-color: var(--fill-color);\n",
              "      border-top-color: var(--fill-color);\n",
              "      border-right-color: var(--fill-color);\n",
              "    }\n",
              "    40% {\n",
              "      border-color: transparent;\n",
              "      border-right-color: var(--fill-color);\n",
              "      border-top-color: var(--fill-color);\n",
              "    }\n",
              "    60% {\n",
              "      border-color: transparent;\n",
              "      border-right-color: var(--fill-color);\n",
              "    }\n",
              "    80% {\n",
              "      border-color: transparent;\n",
              "      border-right-color: var(--fill-color);\n",
              "      border-bottom-color: var(--fill-color);\n",
              "    }\n",
              "    90% {\n",
              "      border-color: transparent;\n",
              "      border-bottom-color: var(--fill-color);\n",
              "    }\n",
              "  }\n",
              "</style>\n",
              "\n",
              "  <script>\n",
              "    async function quickchart(key) {\n",
              "      const quickchartButtonEl =\n",
              "        document.querySelector('#' + key + ' button');\n",
              "      quickchartButtonEl.disabled = true;  // To prevent multiple clicks.\n",
              "      quickchartButtonEl.classList.add('colab-df-spinner');\n",
              "      try {\n",
              "        const charts = await google.colab.kernel.invokeFunction(\n",
              "            'suggestCharts', [key], {});\n",
              "      } catch (error) {\n",
              "        console.error('Error during call to suggestCharts:', error);\n",
              "      }\n",
              "      quickchartButtonEl.classList.remove('colab-df-spinner');\n",
              "      quickchartButtonEl.classList.add('colab-df-quickchart-complete');\n",
              "    }\n",
              "    (() => {\n",
              "      let quickchartButtonEl =\n",
              "        document.querySelector('#df-610195cf-711e-4a33-bc1a-0a0b1600cb0d button');\n",
              "      quickchartButtonEl.style.display =\n",
              "        google.colab.kernel.accessAllowed ? 'block' : 'none';\n",
              "    })();\n",
              "  </script>\n",
              "</div>\n",
              "\n",
              "    </div>\n",
              "  </div>\n"
            ],
            "application/vnd.google.colaboratory.intrinsic+json": {
              "type": "dataframe",
              "variable_name": "dataset",
              "summary": "{\n  \"name\": \"dataset\",\n  \"rows\": 15000,\n  \"fields\": [\n    {\n      \"column\": \"week\",\n      \"properties\": {\n        \"dtype\": \"number\",\n        \"std\": 1,\n        \"min\": 1,\n        \"max\": 6,\n        \"num_unique_values\": 6,\n        \"samples\": [\n          2,\n          6,\n          1\n        ],\n        \"semantic_type\": \"\",\n        \"description\": \"\"\n      }\n    },\n    {\n      \"column\": \"sales_method\",\n      \"properties\": {\n        \"dtype\": \"category\",\n        \"num_unique_values\": 5,\n        \"samples\": [\n          \"Email + Call\",\n          \"email\",\n          \"Call\"\n        ],\n        \"semantic_type\": \"\",\n        \"description\": \"\"\n      }\n    },\n    {\n      \"column\": \"customer_id\",\n      \"properties\": {\n        \"dtype\": \"string\",\n        \"num_unique_values\": 15000,\n        \"samples\": [\n          \"af0e014d-8104-4137-ad60-9fa5aa6c4a29\",\n          \"328e6b2c-7be4-4b02-9a48-b715a171b007\",\n          \"60c49272-9605-4433-8db1-d4d0ce23702c\"\n        ],\n        \"semantic_type\": \"\",\n        \"description\": \"\"\n      }\n    },\n    {\n      \"column\": \"nb_sold\",\n      \"properties\": {\n        \"dtype\": \"number\",\n        \"std\": 1,\n        \"min\": 7,\n        \"max\": 16,\n        \"num_unique_values\": 10,\n        \"samples\": [\n          14,\n          15,\n          8\n        ],\n        \"semantic_type\": \"\",\n        \"description\": \"\"\n      }\n    },\n    {\n      \"column\": \"revenue\",\n      \"properties\": {\n        \"dtype\": \"number\",\n        \"std\": 47.43531224572558,\n        \"min\": 32.54,\n        \"max\": 238.32,\n        \"num_unique_values\": 6743,\n        \"samples\": [\n          225.9,\n          39.61,\n          83.8\n        ],\n        \"semantic_type\": \"\",\n        \"description\": \"\"\n      }\n    },\n    {\n      \"column\": \"years_as_customer\",\n      \"properties\": {\n        \"dtype\": \"number\",\n        \"std\": 5,\n        \"min\": 0,\n        \"max\": 63,\n        \"num_unique_values\": 42,\n        \"samples\": [\n          23,\n          36,\n          2\n        ],\n        \"semantic_type\": \"\",\n        \"description\": \"\"\n      }\n    },\n    {\n      \"column\": \"nb_site_visits\",\n      \"properties\": {\n        \"dtype\": \"number\",\n        \"std\": 3,\n        \"min\": 12,\n        \"max\": 41,\n        \"num_unique_values\": 27,\n        \"samples\": [\n          21,\n          18,\n          27\n        ],\n        \"semantic_type\": \"\",\n        \"description\": \"\"\n      }\n    },\n    {\n      \"column\": \"state\",\n      \"properties\": {\n        \"dtype\": \"category\",\n        \"num_unique_values\": 50,\n        \"samples\": [\n          \"California\",\n          \"Minnesota\",\n          \"New Jersey\"\n        ],\n        \"semantic_type\": \"\",\n        \"description\": \"\"\n      }\n    }\n  ]\n}"
            }
          },
          "metadata": {},
          "execution_count": 144
        }
      ]
    },
    {
      "cell_type": "markdown",
      "source": [
        "### Dimensions of the Dataset"
      ],
      "metadata": {
        "id": "pR5gpmEarng6"
      },
      "id": "pR5gpmEarng6"
    },
    {
      "cell_type": "code",
      "source": [
        "print(f\"There are {dataset.shape[0]} rows and {dataset.shape[1]} features (columns) in the dataset.\")"
      ],
      "metadata": {
        "colab": {
          "base_uri": "https://localhost:8080/"
        },
        "id": "P-Ncz50rrqW2",
        "outputId": "79832098-d657-4d08-8425-410c04cddf18"
      },
      "id": "P-Ncz50rrqW2",
      "execution_count": 145,
      "outputs": [
        {
          "output_type": "stream",
          "name": "stdout",
          "text": [
            "There are 15000 rows and 8 features (columns) in the dataset.\n"
          ]
        }
      ]
    },
    {
      "cell_type": "code",
      "source": [
        "dataset.info()"
      ],
      "metadata": {
        "colab": {
          "base_uri": "https://localhost:8080/"
        },
        "id": "YizHEks3sjKW",
        "outputId": "7c3eae2c-a996-4bf9-90d0-1bd3dc77c35b"
      },
      "id": "YizHEks3sjKW",
      "execution_count": 146,
      "outputs": [
        {
          "output_type": "stream",
          "name": "stdout",
          "text": [
            "<class 'pandas.core.frame.DataFrame'>\n",
            "RangeIndex: 15000 entries, 0 to 14999\n",
            "Data columns (total 8 columns):\n",
            " #   Column             Non-Null Count  Dtype  \n",
            "---  ------             --------------  -----  \n",
            " 0   week               15000 non-null  int64  \n",
            " 1   sales_method       15000 non-null  object \n",
            " 2   customer_id        15000 non-null  object \n",
            " 3   nb_sold            15000 non-null  int64  \n",
            " 4   revenue            13926 non-null  float64\n",
            " 5   years_as_customer  15000 non-null  int64  \n",
            " 6   nb_site_visits     15000 non-null  int64  \n",
            " 7   state              15000 non-null  object \n",
            "dtypes: float64(1), int64(4), object(3)\n",
            "memory usage: 937.6+ KB\n"
          ]
        }
      ]
    },
    {
      "cell_type": "markdown",
      "source": [
        "### Statistical Summary of the Dataset"
      ],
      "metadata": {
        "id": "g3XWe2Q5stCW"
      },
      "id": "g3XWe2Q5stCW"
    },
    {
      "cell_type": "code",
      "source": [
        "dataset.describe()"
      ],
      "metadata": {
        "colab": {
          "base_uri": "https://localhost:8080/",
          "height": 300
        },
        "id": "ZFoA0wX3swqe",
        "outputId": "0968d108-de18-4a59-8e04-00ee606f1a53"
      },
      "id": "ZFoA0wX3swqe",
      "execution_count": 147,
      "outputs": [
        {
          "output_type": "execute_result",
          "data": {
            "text/plain": [
              "               week       nb_sold       revenue  years_as_customer  \\\n",
              "count  15000.000000  15000.000000  13926.000000       15000.000000   \n",
              "mean       3.098267     10.084667     93.934943           4.965933   \n",
              "std        1.656420      1.812213     47.435312           5.044952   \n",
              "min        1.000000      7.000000     32.540000           0.000000   \n",
              "25%        2.000000      9.000000     52.470000           1.000000   \n",
              "50%        3.000000     10.000000     89.500000           3.000000   \n",
              "75%        5.000000     11.000000    107.327500           7.000000   \n",
              "max        6.000000     16.000000    238.320000          63.000000   \n",
              "\n",
              "       nb_site_visits  \n",
              "count    15000.000000  \n",
              "mean        24.990867  \n",
              "std          3.500914  \n",
              "min         12.000000  \n",
              "25%         23.000000  \n",
              "50%         25.000000  \n",
              "75%         27.000000  \n",
              "max         41.000000  "
            ],
            "text/html": [
              "\n",
              "  <div id=\"df-60ca07fd-976b-4b43-a04d-e8b7b0bff7a3\" class=\"colab-df-container\">\n",
              "    <div>\n",
              "<style scoped>\n",
              "    .dataframe tbody tr th:only-of-type {\n",
              "        vertical-align: middle;\n",
              "    }\n",
              "\n",
              "    .dataframe tbody tr th {\n",
              "        vertical-align: top;\n",
              "    }\n",
              "\n",
              "    .dataframe thead th {\n",
              "        text-align: right;\n",
              "    }\n",
              "</style>\n",
              "<table border=\"1\" class=\"dataframe\">\n",
              "  <thead>\n",
              "    <tr style=\"text-align: right;\">\n",
              "      <th></th>\n",
              "      <th>week</th>\n",
              "      <th>nb_sold</th>\n",
              "      <th>revenue</th>\n",
              "      <th>years_as_customer</th>\n",
              "      <th>nb_site_visits</th>\n",
              "    </tr>\n",
              "  </thead>\n",
              "  <tbody>\n",
              "    <tr>\n",
              "      <th>count</th>\n",
              "      <td>15000.000000</td>\n",
              "      <td>15000.000000</td>\n",
              "      <td>13926.000000</td>\n",
              "      <td>15000.000000</td>\n",
              "      <td>15000.000000</td>\n",
              "    </tr>\n",
              "    <tr>\n",
              "      <th>mean</th>\n",
              "      <td>3.098267</td>\n",
              "      <td>10.084667</td>\n",
              "      <td>93.934943</td>\n",
              "      <td>4.965933</td>\n",
              "      <td>24.990867</td>\n",
              "    </tr>\n",
              "    <tr>\n",
              "      <th>std</th>\n",
              "      <td>1.656420</td>\n",
              "      <td>1.812213</td>\n",
              "      <td>47.435312</td>\n",
              "      <td>5.044952</td>\n",
              "      <td>3.500914</td>\n",
              "    </tr>\n",
              "    <tr>\n",
              "      <th>min</th>\n",
              "      <td>1.000000</td>\n",
              "      <td>7.000000</td>\n",
              "      <td>32.540000</td>\n",
              "      <td>0.000000</td>\n",
              "      <td>12.000000</td>\n",
              "    </tr>\n",
              "    <tr>\n",
              "      <th>25%</th>\n",
              "      <td>2.000000</td>\n",
              "      <td>9.000000</td>\n",
              "      <td>52.470000</td>\n",
              "      <td>1.000000</td>\n",
              "      <td>23.000000</td>\n",
              "    </tr>\n",
              "    <tr>\n",
              "      <th>50%</th>\n",
              "      <td>3.000000</td>\n",
              "      <td>10.000000</td>\n",
              "      <td>89.500000</td>\n",
              "      <td>3.000000</td>\n",
              "      <td>25.000000</td>\n",
              "    </tr>\n",
              "    <tr>\n",
              "      <th>75%</th>\n",
              "      <td>5.000000</td>\n",
              "      <td>11.000000</td>\n",
              "      <td>107.327500</td>\n",
              "      <td>7.000000</td>\n",
              "      <td>27.000000</td>\n",
              "    </tr>\n",
              "    <tr>\n",
              "      <th>max</th>\n",
              "      <td>6.000000</td>\n",
              "      <td>16.000000</td>\n",
              "      <td>238.320000</td>\n",
              "      <td>63.000000</td>\n",
              "      <td>41.000000</td>\n",
              "    </tr>\n",
              "  </tbody>\n",
              "</table>\n",
              "</div>\n",
              "    <div class=\"colab-df-buttons\">\n",
              "\n",
              "  <div class=\"colab-df-container\">\n",
              "    <button class=\"colab-df-convert\" onclick=\"convertToInteractive('df-60ca07fd-976b-4b43-a04d-e8b7b0bff7a3')\"\n",
              "            title=\"Convert this dataframe to an interactive table.\"\n",
              "            style=\"display:none;\">\n",
              "\n",
              "  <svg xmlns=\"http://www.w3.org/2000/svg\" height=\"24px\" viewBox=\"0 -960 960 960\">\n",
              "    <path d=\"M120-120v-720h720v720H120Zm60-500h600v-160H180v160Zm220 220h160v-160H400v160Zm0 220h160v-160H400v160ZM180-400h160v-160H180v160Zm440 0h160v-160H620v160ZM180-180h160v-160H180v160Zm440 0h160v-160H620v160Z\"/>\n",
              "  </svg>\n",
              "    </button>\n",
              "\n",
              "  <style>\n",
              "    .colab-df-container {\n",
              "      display:flex;\n",
              "      gap: 12px;\n",
              "    }\n",
              "\n",
              "    .colab-df-convert {\n",
              "      background-color: #E8F0FE;\n",
              "      border: none;\n",
              "      border-radius: 50%;\n",
              "      cursor: pointer;\n",
              "      display: none;\n",
              "      fill: #1967D2;\n",
              "      height: 32px;\n",
              "      padding: 0 0 0 0;\n",
              "      width: 32px;\n",
              "    }\n",
              "\n",
              "    .colab-df-convert:hover {\n",
              "      background-color: #E2EBFA;\n",
              "      box-shadow: 0px 1px 2px rgba(60, 64, 67, 0.3), 0px 1px 3px 1px rgba(60, 64, 67, 0.15);\n",
              "      fill: #174EA6;\n",
              "    }\n",
              "\n",
              "    .colab-df-buttons div {\n",
              "      margin-bottom: 4px;\n",
              "    }\n",
              "\n",
              "    [theme=dark] .colab-df-convert {\n",
              "      background-color: #3B4455;\n",
              "      fill: #D2E3FC;\n",
              "    }\n",
              "\n",
              "    [theme=dark] .colab-df-convert:hover {\n",
              "      background-color: #434B5C;\n",
              "      box-shadow: 0px 1px 3px 1px rgba(0, 0, 0, 0.15);\n",
              "      filter: drop-shadow(0px 1px 2px rgba(0, 0, 0, 0.3));\n",
              "      fill: #FFFFFF;\n",
              "    }\n",
              "  </style>\n",
              "\n",
              "    <script>\n",
              "      const buttonEl =\n",
              "        document.querySelector('#df-60ca07fd-976b-4b43-a04d-e8b7b0bff7a3 button.colab-df-convert');\n",
              "      buttonEl.style.display =\n",
              "        google.colab.kernel.accessAllowed ? 'block' : 'none';\n",
              "\n",
              "      async function convertToInteractive(key) {\n",
              "        const element = document.querySelector('#df-60ca07fd-976b-4b43-a04d-e8b7b0bff7a3');\n",
              "        const dataTable =\n",
              "          await google.colab.kernel.invokeFunction('convertToInteractive',\n",
              "                                                    [key], {});\n",
              "        if (!dataTable) return;\n",
              "\n",
              "        const docLinkHtml = 'Like what you see? Visit the ' +\n",
              "          '<a target=\"_blank\" href=https://colab.research.google.com/notebooks/data_table.ipynb>data table notebook</a>'\n",
              "          + ' to learn more about interactive tables.';\n",
              "        element.innerHTML = '';\n",
              "        dataTable['output_type'] = 'display_data';\n",
              "        await google.colab.output.renderOutput(dataTable, element);\n",
              "        const docLink = document.createElement('div');\n",
              "        docLink.innerHTML = docLinkHtml;\n",
              "        element.appendChild(docLink);\n",
              "      }\n",
              "    </script>\n",
              "  </div>\n",
              "\n",
              "\n",
              "<div id=\"df-27c2cca1-93af-4ea0-88bf-dd4f358ad247\">\n",
              "  <button class=\"colab-df-quickchart\" onclick=\"quickchart('df-27c2cca1-93af-4ea0-88bf-dd4f358ad247')\"\n",
              "            title=\"Suggest charts\"\n",
              "            style=\"display:none;\">\n",
              "\n",
              "<svg xmlns=\"http://www.w3.org/2000/svg\" height=\"24px\"viewBox=\"0 0 24 24\"\n",
              "     width=\"24px\">\n",
              "    <g>\n",
              "        <path d=\"M19 3H5c-1.1 0-2 .9-2 2v14c0 1.1.9 2 2 2h14c1.1 0 2-.9 2-2V5c0-1.1-.9-2-2-2zM9 17H7v-7h2v7zm4 0h-2V7h2v10zm4 0h-2v-4h2v4z\"/>\n",
              "    </g>\n",
              "</svg>\n",
              "  </button>\n",
              "\n",
              "<style>\n",
              "  .colab-df-quickchart {\n",
              "      --bg-color: #E8F0FE;\n",
              "      --fill-color: #1967D2;\n",
              "      --hover-bg-color: #E2EBFA;\n",
              "      --hover-fill-color: #174EA6;\n",
              "      --disabled-fill-color: #AAA;\n",
              "      --disabled-bg-color: #DDD;\n",
              "  }\n",
              "\n",
              "  [theme=dark] .colab-df-quickchart {\n",
              "      --bg-color: #3B4455;\n",
              "      --fill-color: #D2E3FC;\n",
              "      --hover-bg-color: #434B5C;\n",
              "      --hover-fill-color: #FFFFFF;\n",
              "      --disabled-bg-color: #3B4455;\n",
              "      --disabled-fill-color: #666;\n",
              "  }\n",
              "\n",
              "  .colab-df-quickchart {\n",
              "    background-color: var(--bg-color);\n",
              "    border: none;\n",
              "    border-radius: 50%;\n",
              "    cursor: pointer;\n",
              "    display: none;\n",
              "    fill: var(--fill-color);\n",
              "    height: 32px;\n",
              "    padding: 0;\n",
              "    width: 32px;\n",
              "  }\n",
              "\n",
              "  .colab-df-quickchart:hover {\n",
              "    background-color: var(--hover-bg-color);\n",
              "    box-shadow: 0 1px 2px rgba(60, 64, 67, 0.3), 0 1px 3px 1px rgba(60, 64, 67, 0.15);\n",
              "    fill: var(--button-hover-fill-color);\n",
              "  }\n",
              "\n",
              "  .colab-df-quickchart-complete:disabled,\n",
              "  .colab-df-quickchart-complete:disabled:hover {\n",
              "    background-color: var(--disabled-bg-color);\n",
              "    fill: var(--disabled-fill-color);\n",
              "    box-shadow: none;\n",
              "  }\n",
              "\n",
              "  .colab-df-spinner {\n",
              "    border: 2px solid var(--fill-color);\n",
              "    border-color: transparent;\n",
              "    border-bottom-color: var(--fill-color);\n",
              "    animation:\n",
              "      spin 1s steps(1) infinite;\n",
              "  }\n",
              "\n",
              "  @keyframes spin {\n",
              "    0% {\n",
              "      border-color: transparent;\n",
              "      border-bottom-color: var(--fill-color);\n",
              "      border-left-color: var(--fill-color);\n",
              "    }\n",
              "    20% {\n",
              "      border-color: transparent;\n",
              "      border-left-color: var(--fill-color);\n",
              "      border-top-color: var(--fill-color);\n",
              "    }\n",
              "    30% {\n",
              "      border-color: transparent;\n",
              "      border-left-color: var(--fill-color);\n",
              "      border-top-color: var(--fill-color);\n",
              "      border-right-color: var(--fill-color);\n",
              "    }\n",
              "    40% {\n",
              "      border-color: transparent;\n",
              "      border-right-color: var(--fill-color);\n",
              "      border-top-color: var(--fill-color);\n",
              "    }\n",
              "    60% {\n",
              "      border-color: transparent;\n",
              "      border-right-color: var(--fill-color);\n",
              "    }\n",
              "    80% {\n",
              "      border-color: transparent;\n",
              "      border-right-color: var(--fill-color);\n",
              "      border-bottom-color: var(--fill-color);\n",
              "    }\n",
              "    90% {\n",
              "      border-color: transparent;\n",
              "      border-bottom-color: var(--fill-color);\n",
              "    }\n",
              "  }\n",
              "</style>\n",
              "\n",
              "  <script>\n",
              "    async function quickchart(key) {\n",
              "      const quickchartButtonEl =\n",
              "        document.querySelector('#' + key + ' button');\n",
              "      quickchartButtonEl.disabled = true;  // To prevent multiple clicks.\n",
              "      quickchartButtonEl.classList.add('colab-df-spinner');\n",
              "      try {\n",
              "        const charts = await google.colab.kernel.invokeFunction(\n",
              "            'suggestCharts', [key], {});\n",
              "      } catch (error) {\n",
              "        console.error('Error during call to suggestCharts:', error);\n",
              "      }\n",
              "      quickchartButtonEl.classList.remove('colab-df-spinner');\n",
              "      quickchartButtonEl.classList.add('colab-df-quickchart-complete');\n",
              "    }\n",
              "    (() => {\n",
              "      let quickchartButtonEl =\n",
              "        document.querySelector('#df-27c2cca1-93af-4ea0-88bf-dd4f358ad247 button');\n",
              "      quickchartButtonEl.style.display =\n",
              "        google.colab.kernel.accessAllowed ? 'block' : 'none';\n",
              "    })();\n",
              "  </script>\n",
              "</div>\n",
              "\n",
              "    </div>\n",
              "  </div>\n"
            ],
            "application/vnd.google.colaboratory.intrinsic+json": {
              "type": "dataframe",
              "summary": "{\n  \"name\": \"dataset\",\n  \"rows\": 8,\n  \"fields\": [\n    {\n      \"column\": \"week\",\n      \"properties\": {\n        \"dtype\": \"number\",\n        \"std\": 5302.202347143905,\n        \"min\": 1.0,\n        \"max\": 15000.0,\n        \"num_unique_values\": 8,\n        \"samples\": [\n          3.0982666666666665,\n          3.0,\n          15000.0\n        ],\n        \"semantic_type\": \"\",\n        \"description\": \"\"\n      }\n    },\n    {\n      \"column\": \"nb_sold\",\n      \"properties\": {\n        \"dtype\": \"number\",\n        \"std\": 5300.024558352698,\n        \"min\": 1.8122133327416081,\n        \"max\": 15000.0,\n        \"num_unique_values\": 8,\n        \"samples\": [\n          10.084666666666667,\n          10.0,\n          15000.0\n        ],\n        \"semantic_type\": \"\",\n        \"description\": \"\"\n      }\n    },\n    {\n      \"column\": \"revenue\",\n      \"properties\": {\n        \"dtype\": \"number\",\n        \"std\": 4890.591432971898,\n        \"min\": 32.54,\n        \"max\": 13926.0,\n        \"num_unique_values\": 8,\n        \"samples\": [\n          93.93494255349705,\n          89.5,\n          13926.0\n        ],\n        \"semantic_type\": \"\",\n        \"description\": \"\"\n      }\n    },\n    {\n      \"column\": \"years_as_customer\",\n      \"properties\": {\n        \"dtype\": \"number\",\n        \"std\": 5299.099048289608,\n        \"min\": 0.0,\n        \"max\": 15000.0,\n        \"num_unique_values\": 8,\n        \"samples\": [\n          4.965933333333333,\n          3.0,\n          15000.0\n        ],\n        \"semantic_type\": \"\",\n        \"description\": \"\"\n      }\n    },\n    {\n      \"column\": \"nb_site_visits\",\n      \"properties\": {\n        \"dtype\": \"number\",\n        \"std\": 5295.4082455844255,\n        \"min\": 3.5009142152079415,\n        \"max\": 15000.0,\n        \"num_unique_values\": 8,\n        \"samples\": [\n          24.990866666666665,\n          25.0,\n          15000.0\n        ],\n        \"semantic_type\": \"\",\n        \"description\": \"\"\n      }\n    }\n  ]\n}"
            }
          },
          "metadata": {},
          "execution_count": 147
        }
      ]
    },
    {
      "cell_type": "markdown",
      "source": [
        "Observations:\n",
        "\n",
        "* The dataset consists of 15000 entries.\n",
        "* There are 8 columns in total.\n",
        "* These columns are a mix of numerical (int64 and float64) and categorical (object) data types.\n",
        "* There are missing values only in the revenue column of the dataset, which will be dealt with in the data validation phase."
      ],
      "metadata": {
        "id": "7zPR6HbWs2RQ"
      },
      "id": "7zPR6HbWs2RQ"
    },
    {
      "cell_type": "markdown",
      "source": [
        "##3. Exploring the Columns of the Dataset"
      ],
      "metadata": {
        "id": "GvSuwr0vtbL7"
      },
      "id": "GvSuwr0vtbL7"
    },
    {
      "cell_type": "markdown",
      "source": [
        "### 'week' Column"
      ],
      "metadata": {
        "id": "xn_-HEhMtns4"
      },
      "id": "xn_-HEhMtns4"
    },
    {
      "cell_type": "code",
      "source": [
        "plt.figure(figsize=(5, 5))\n",
        "sns.histplot(dataset['week'], bins=5, color='blue')\n",
        "plt.title('Distribution of weeks')\n",
        "plt.xlabel('Number of weeks')\n",
        "plt.ylabel('Frequency')\n",
        "plt.show()"
      ],
      "metadata": {
        "colab": {
          "base_uri": "https://localhost:8080/",
          "height": 487
        },
        "id": "97BbA3ZduXhq",
        "outputId": "2b3da41f-4184-4cfd-b6e9-f8dfe2cb43ae"
      },
      "id": "97BbA3ZduXhq",
      "execution_count": 148,
      "outputs": [
        {
          "output_type": "display_data",
          "data": {
            "text/plain": [
              "<Figure size 500x500 with 1 Axes>"
            ],
            "image/png": "[encoded data removed]"
          },
          "metadata": {}
        }
      ]
    },
    {
      "cell_type": "markdown",
      "source": [
        "The above histogram shows that the first and sixth weeks have had the highest sales."
      ],
      "metadata": {
        "id": "soyWgAA3wYGr"
      },
      "id": "soyWgAA3wYGr"
    },
    {
      "cell_type": "markdown",
      "source": [
        "### 'sales_method' Column"
      ],
      "metadata": {
        "id": "g-VzVFCpxtJQ"
      },
      "id": "g-VzVFCpxtJQ"
    },
    {
      "cell_type": "code",
      "source": [
        "print(dataset['sales_method'].value_counts())"
      ],
      "metadata": {
        "colab": {
          "base_uri": "https://localhost:8080/"
        },
        "id": "QxEFPZppwXAe",
        "outputId": "7ca76dc8-07d5-4ed7-a058-ef1930ac5487"
      },
      "id": "QxEFPZppwXAe",
      "execution_count": 149,
      "outputs": [
        {
          "output_type": "stream",
          "name": "stdout",
          "text": [
            "sales_method\n",
            "Email           7456\n",
            "Call            4962\n",
            "Email + Call    2549\n",
            "em + call         23\n",
            "email             10\n",
            "Name: count, dtype: int64\n"
          ]
        }
      ]
    },
    {
      "cell_type": "markdown",
      "source": [
        "There are supposed to be only 3 different categories, but there are 5 here. This is due to text inconsistency, and this will be addressed in the data validation phase."
      ],
      "metadata": {
        "id": "lxyLbOCSya9e"
      },
      "id": "lxyLbOCSya9e"
    },
    {
      "cell_type": "markdown",
      "source": [
        "### 'customer_id' Column"
      ],
      "metadata": {
        "id": "2XofkHo8y2bh"
      },
      "id": "2XofkHo8y2bh"
    },
    {
      "cell_type": "code",
      "source": [
        "dataset['customer_id'].nunique()"
      ],
      "metadata": {
        "colab": {
          "base_uri": "https://localhost:8080/"
        },
        "id": "mWDHaudyzD8H",
        "outputId": "ba653271-97b2-4ec4-d152-96d78143790d"
      },
      "id": "mWDHaudyzD8H",
      "execution_count": 150,
      "outputs": [
        {
          "output_type": "execute_result",
          "data": {
            "text/plain": [
              "15000"
            ]
          },
          "metadata": {},
          "execution_count": 150
        }
      ]
    },
    {
      "cell_type": "markdown",
      "source": [
        "As there are 15000 rows in the dataset, hence this validates that each customer has a unique ID and there are no duplicates."
      ],
      "metadata": {
        "id": "b_ehK8GszTCA"
      },
      "id": "b_ehK8GszTCA"
    },
    {
      "cell_type": "markdown",
      "source": [
        "### 'nb_sold' Column"
      ],
      "metadata": {
        "id": "tLq46FnmzdOj"
      },
      "id": "tLq46FnmzdOj"
    },
    {
      "cell_type": "code",
      "source": [
        "plt.figure(figsize=(6, 6))\n",
        "sns.histplot(dataset['nb_sold'], bins=10, color='red')\n",
        "plt.title('Distribution of New Products Sold')\n",
        "plt.xlabel('Number of New Products Sold')\n",
        "plt.ylabel('Frequency')\n",
        "plt.show()"
      ],
      "metadata": {
        "colab": {
          "base_uri": "https://localhost:8080/",
          "height": 564
        },
        "id": "NvQld1c7zrrX",
        "outputId": "9f9c256a-129b-4921-c0ae-e034229a4ba1"
      },
      "id": "NvQld1c7zrrX",
      "execution_count": 151,
      "outputs": [
        {
          "output_type": "display_data",
          "data": {
            "text/plain": [
              "<Figure size 600x600 with 1 Axes>"
            ],
            "image/png": "[encoded data removed]"
          },
          "metadata": {}
        }
      ]
    },
    {
      "cell_type": "markdown",
      "source": [
        "Most of the new products sold to an individual customer are between 8 and 12."
      ],
      "metadata": {
        "id": "kC-geQOa01sT"
      },
      "id": "kC-geQOa01sT"
    },
    {
      "cell_type": "markdown",
      "source": [
        "### 'revenue' Column"
      ],
      "metadata": {
        "id": "U44nxGrb1Oko"
      },
      "id": "U44nxGrb1Oko"
    },
    {
      "cell_type": "code",
      "source": [
        "dataset['revenue'].describe()"
      ],
      "metadata": {
        "colab": {
          "base_uri": "https://localhost:8080/",
          "height": 335
        },
        "id": "-1VJHUlF1RRL",
        "outputId": "f8913468-78ad-49fe-cadc-196a4d6f01e8"
      },
      "id": "-1VJHUlF1RRL",
      "execution_count": 152,
      "outputs": [
        {
          "output_type": "execute_result",
          "data": {
            "text/plain": [
              "count    13926.000000\n",
              "mean        93.934943\n",
              "std         47.435312\n",
              "min         32.540000\n",
              "25%         52.470000\n",
              "50%         89.500000\n",
              "75%        107.327500\n",
              "max        238.320000\n",
              "Name: revenue, dtype: float64"
            ],
            "text/html": [
              "<div>\n",
              "<style scoped>\n",
              "    .dataframe tbody tr th:only-of-type {\n",
              "        vertical-align: middle;\n",
              "    }\n",
              "\n",
              "    .dataframe tbody tr th {\n",
              "        vertical-align: top;\n",
              "    }\n",
              "\n",
              "    .dataframe thead th {\n",
              "        text-align: right;\n",
              "    }\n",
              "</style>\n",
              "<table border=\"1\" class=\"dataframe\">\n",
              "  <thead>\n",
              "    <tr style=\"text-align: right;\">\n",
              "      <th></th>\n",
              "      <th>revenue</th>\n",
              "    </tr>\n",
              "  </thead>\n",
              "  <tbody>\n",
              "    <tr>\n",
              "      <th>count</th>\n",
              "      <td>13926.000000</td>\n",
              "    </tr>\n",
              "    <tr>\n",
              "      <th>mean</th>\n",
              "      <td>93.934943</td>\n",
              "    </tr>\n",
              "    <tr>\n",
              "      <th>std</th>\n",
              "      <td>47.435312</td>\n",
              "    </tr>\n",
              "    <tr>\n",
              "      <th>min</th>\n",
              "      <td>32.540000</td>\n",
              "    </tr>\n",
              "    <tr>\n",
              "      <th>25%</th>\n",
              "      <td>52.470000</td>\n",
              "    </tr>\n",
              "    <tr>\n",
              "      <th>50%</th>\n",
              "      <td>89.500000</td>\n",
              "    </tr>\n",
              "    <tr>\n",
              "      <th>75%</th>\n",
              "      <td>107.327500</td>\n",
              "    </tr>\n",
              "    <tr>\n",
              "      <th>max</th>\n",
              "      <td>238.320000</td>\n",
              "    </tr>\n",
              "  </tbody>\n",
              "</table>\n",
              "</div><br><label><b>dtype:</b> float64</label>"
            ]
          },
          "metadata": {},
          "execution_count": 152
        }
      ]
    },
    {
      "cell_type": "markdown",
      "source": [
        "There are 1074 missing values in the dataset, and by comparing the mean (93.93) and the median (89.50), it's clear that the distribution is right-skewed and the mean is pulled to the right due to outliers."
      ],
      "metadata": {
        "id": "Xj24jOrA3xro"
      },
      "id": "Xj24jOrA3xro"
    },
    {
      "cell_type": "markdown",
      "source": [
        "### 'years_as_customer' Column"
      ],
      "metadata": {
        "id": "ODS2KwvQ4jDY"
      },
      "id": "ODS2KwvQ4jDY"
    },
    {
      "cell_type": "code",
      "source": [
        "plt.figure(figsize=(6, 6))\n",
        "sns.histplot(dataset['years_as_customer'], bins=5, color='green')\n",
        "plt.title('Distribution of Years Since Customers Started Purchasing Products')\n",
        "plt.xlabel('Number of Years')\n",
        "plt.ylabel('Frequency')\n",
        "plt.show()"
      ],
      "metadata": {
        "colab": {
          "base_uri": "https://localhost:8080/",
          "height": 564
        },
        "id": "t5exWKKa4qgo",
        "outputId": "d176168d-20e0-4deb-887a-78d7a0aadf9c"
      },
      "id": "t5exWKKa4qgo",
      "execution_count": 153,
      "outputs": [
        {
          "output_type": "display_data",
          "data": {
            "text/plain": [
              "<Figure size 600x600 with 1 Axes>"
            ],
            "image/png": "[encoded data removed]"
          },
          "metadata": {}
        }
      ]
    },
    {
      "cell_type": "markdown",
      "source": [
        "Most of the customers started purchasing products 10-15 years ago."
      ],
      "metadata": {
        "id": "wZtAG9W3589J"
      },
      "id": "wZtAG9W3589J"
    },
    {
      "cell_type": "markdown",
      "source": [
        "### 'nb_site_visits' Column"
      ],
      "metadata": {
        "id": "U4u_LVb66ZPu"
      },
      "id": "U4u_LVb66ZPu"
    },
    {
      "cell_type": "code",
      "source": [
        "plt.figure(figsize=(6, 6))\n",
        "sns.histplot(dataset['nb_site_visits'], bins=10, color='red')\n",
        "plt.title('Distribution of Number of Site Visits by Customers in Last Six Months')\n",
        "plt.xlabel('Number of Site Visits')\n",
        "plt.ylabel('Frequency')\n",
        "plt.show()"
      ],
      "metadata": {
        "colab": {
          "base_uri": "https://localhost:8080/",
          "height": 564
        },
        "id": "S0ytlr_h7MIk",
        "outputId": "3f2256d2-69ef-4cd0-a3a4-c0ddcd1fd1e2"
      },
      "id": "S0ytlr_h7MIk",
      "execution_count": 154,
      "outputs": [
        {
          "output_type": "display_data",
          "data": {
            "text/plain": [
              "<Figure size 600x600 with 1 Axes>"
            ],
            "image/png": "[encoded data removed]"
          },
          "metadata": {}
        }
      ]
    },
    {
      "cell_type": "markdown",
      "source": [
        "Most of the site visits by customers in the last six months are between 20 and 30. The distribution is perfectly normal and symmetric with mean at 25."
      ],
      "metadata": {
        "id": "CPokcMhC7obK"
      },
      "id": "CPokcMhC7obK"
    },
    {
      "cell_type": "markdown",
      "source": [
        "### 'state' Column"
      ],
      "metadata": {
        "id": "X5uIsvjA8Av3"
      },
      "id": "X5uIsvjA8Av3"
    },
    {
      "cell_type": "code",
      "source": [
        "dataset['state'].value_counts().head()"
      ],
      "metadata": {
        "colab": {
          "base_uri": "https://localhost:8080/",
          "height": 272
        },
        "id": "0Fstg8HZ8IaD",
        "outputId": "66ff1690-e849-4284-ef4f-64ebe72ee424"
      },
      "id": "0Fstg8HZ8IaD",
      "execution_count": 155,
      "outputs": [
        {
          "output_type": "execute_result",
          "data": {
            "text/plain": [
              "state\n",
              "California    1872\n",
              "Texas         1187\n",
              "New York       965\n",
              "Florida        904\n",
              "Illinois       617\n",
              "Name: count, dtype: int64"
            ],
            "text/html": [
              "<div>\n",
              "<style scoped>\n",
              "    .dataframe tbody tr th:only-of-type {\n",
              "        vertical-align: middle;\n",
              "    }\n",
              "\n",
              "    .dataframe tbody tr th {\n",
              "        vertical-align: top;\n",
              "    }\n",
              "\n",
              "    .dataframe thead th {\n",
              "        text-align: right;\n",
              "    }\n",
              "</style>\n",
              "<table border=\"1\" class=\"dataframe\">\n",
              "  <thead>\n",
              "    <tr style=\"text-align: right;\">\n",
              "      <th></th>\n",
              "      <th>count</th>\n",
              "    </tr>\n",
              "    <tr>\n",
              "      <th>state</th>\n",
              "      <th></th>\n",
              "    </tr>\n",
              "  </thead>\n",
              "  <tbody>\n",
              "    <tr>\n",
              "      <th>California</th>\n",
              "      <td>1872</td>\n",
              "    </tr>\n",
              "    <tr>\n",
              "      <th>Texas</th>\n",
              "      <td>1187</td>\n",
              "    </tr>\n",
              "    <tr>\n",
              "      <th>New York</th>\n",
              "      <td>965</td>\n",
              "    </tr>\n",
              "    <tr>\n",
              "      <th>Florida</th>\n",
              "      <td>904</td>\n",
              "    </tr>\n",
              "    <tr>\n",
              "      <th>Illinois</th>\n",
              "      <td>617</td>\n",
              "    </tr>\n",
              "  </tbody>\n",
              "</table>\n",
              "</div><br><label><b>dtype:</b> int64</label>"
            ]
          },
          "metadata": {},
          "execution_count": 155
        }
      ]
    },
    {
      "cell_type": "markdown",
      "source": [
        "The top 5 US states where the customers are from are: California, Texas, New York, Florida, and Illinois."
      ],
      "metadata": {
        "id": "MjICDJ-88mNL"
      },
      "id": "MjICDJ-88mNL"
    },
    {
      "source": [
        "##4. Data Validation and Cleaning\n",
        "The dataset contains 15000 rows and 8 columns before cleaning and validation. I have validated all the columns against the criteria in the dataset table:\n",
        "\n",
        "**week**: numeric values, same as the description and with no missing values, hence, no cleaning is needed.\n",
        "\n",
        "**sales_method**: Initally, there were 5 categories, as opposed to 3, which was to be the case, and this was due to text inconsistency, after cleaning this column by capitalizing the column values and making a replacement, there are 3 different categories and without missing values, same as the description.\n",
        "\n",
        "**customer_id**: string values without missing values, same as the description. No cleaning is needed.\n",
        "\n",
        "**nb_sold**: numeric values without missing values, same as the description and hence no cleaning is needed.\n",
        "\n",
        "**revenue**: numeric values with 1074 missing values, and these missing values were imputed with the median value, rounded to 2 decimal places.\n",
        "\n",
        "**years_as_customer**: numeric values with no missing values, however, there are a few values which are erroneous, because they indicate that the customers have been buying products from the company even before the company was founded, so they were replaced with the maximum possible value, which is 2024 - 1984 = 40.\n",
        "\n",
        "**nb_site_visits**: numeric values, same as the description, no cleaning is required.\n",
        "\n",
        "**state**: string, with 50 possible values, no missing values, same as the description, no cleaning is needed.\n",
        "\n",
        "After the data validation, the dataset contains 15000 rows and 8 columns without missing values."
      ],
      "metadata": {
        "id": "562d9d77-2e1e-4523-a28e-1e3b388f930c"
      },
      "id": "562d9d77-2e1e-4523-a28e-1e3b388f930c",
      "cell_type": "markdown"
    },
    {
      "cell_type": "code",
      "source": [
        "# Cleaning the 'sales_method' column\n",
        "print(\"Before cleaning, the categories for the 'sales_method' are:\")\n",
        "print(dataset['sales_method'].value_counts())\n",
        "dataset['sales_method'] = dataset['sales_method'].str.replace('em + call', 'Email + Call')\n",
        "dataset['sales_method'] = dataset['sales_method'].str.replace('email', 'Email')\n",
        "print(\"\\nAfter cleaning, the categories for the 'sales_method' are:\")\n",
        "print(dataset['sales_method'].value_counts())\n",
        "\n",
        "# Cleaning the 'revenue' column\n",
        "dataset['revenue'].fillna(dataset['revenue'].median(), inplace=True)\n",
        "dataset['revenue'] = dataset['revenue'].round(2)\n",
        "\n",
        "# Cleaning the 'years_as_customer' column\n",
        "dataset.loc[dataset['years_as_customer'] > 40, 'years_as_customer'] = 40"
      ],
      "metadata": {
        "colab": {
          "base_uri": "https://localhost:8080/"
        },
        "id": "1O2HmNUB-Y5K",
        "outputId": "0ae18b15-1f1c-403e-a728-34687703b410"
      },
      "id": "1O2HmNUB-Y5K",
      "execution_count": 156,
      "outputs": [
        {
          "output_type": "stream",
          "name": "stdout",
          "text": [
            "Before cleaning, the categories for the 'sales_method' are:\n",
            "sales_method\n",
            "Email           7456\n",
            "Call            4962\n",
            "Email + Call    2549\n",
            "em + call         23\n",
            "email             10\n",
            "Name: count, dtype: int64\n",
            "\n",
            "After cleaning, the categories for the 'sales_method' are:\n",
            "sales_method\n",
            "Email           7466\n",
            "Call            4962\n",
            "Email + Call    2572\n",
            "Name: count, dtype: int64\n"
          ]
        }
      ]
    },
    {
      "source": [
        "##5. Exploratory Data Analysis\n",
        "\n",
        "### How many customers were there for each approach?\n",
        "\n",
        "There were a total of 7466 customers for the approach using Email, 4962 customers using Call, and 2572 customers for using both approaches, that is Email and Call.\n",
        "\n"
      ],
      "metadata": {
        "id": "c22f7f5b-2a69-4515-8b29-7b0e94829f11"
      },
      "id": "c22f7f5b-2a69-4515-8b29-7b0e94829f11",
      "cell_type": "markdown"
    },
    {
      "cell_type": "code",
      "source": [
        "sns.countplot(x='sales_method', data=dataset)\n",
        "plt.title('Number of Customers for Each Approach')\n",
        "plt.xlabel('Sales Method')\n",
        "plt.ylabel('Number of Customers')\n",
        "plt.show()"
      ],
      "metadata": {
        "colab": {
          "base_uri": "https://localhost:8080/",
          "height": 472
        },
        "id": "EbBTw0PaBJg-",
        "outputId": "42a9ecdd-ce9e-4a1f-d3f9-e4698eb4473d"
      },
      "id": "EbBTw0PaBJg-",
      "execution_count": 157,
      "outputs": [
        {
          "output_type": "display_data",
          "data": {
            "text/plain": [
              "<Figure size 640x480 with 1 Axes>"
            ],
            "image/png": "[encoded data removed]"
          },
          "metadata": {}
        }
      ]
    },
    {
      "cell_type": "markdown",
      "source": [
        "### What does the spread of the revenue look like overall?\n",
        "\n",
        "The overall spread of the revenue data is multimodal, with several distinct peaks, particularly around the values of 50, 100, 150, and 200. This indicates that the revenue data has multiple clusters with higher frequencies at these values. The revenue values are not uniformly distributed and show significant variability across the range."
      ],
      "metadata": {
        "id": "-307QTSIBFgo"
      },
      "id": "-307QTSIBFgo"
    },
    {
      "cell_type": "code",
      "source": [
        "plt.figure(figsize=(6, 6))\n",
        "sns.histplot(dataset['revenue'], bins=75, color='purple')\n",
        "plt.title('Distribution of Revenue')\n",
        "plt.xlabel('Revenue')\n",
        "plt.ylabel('Frequency')\n",
        "plt.show()"
      ],
      "metadata": {
        "colab": {
          "base_uri": "https://localhost:8080/",
          "height": 564
        },
        "id": "mB_cA3jVB4YP",
        "outputId": "d9034e94-3389-4131-bbdb-6d82c3ee9ec4"
      },
      "id": "mB_cA3jVB4YP",
      "execution_count": 158,
      "outputs": [
        {
          "output_type": "display_data",
          "data": {
            "text/plain": [
              "<Figure size 600x600 with 1 Axes>"
            ],
            "image/png": "[encoded data removed]"
          },
          "metadata": {}
        }
      ]
    },
    {
      "cell_type": "markdown",
      "source": [
        "### What does the spread of the revenue look like for each method?\n"
      ],
      "metadata": {
        "id": "lYBYNx4sBkGx"
      },
      "id": "lYBYNx4sBkGx"
    },
    {
      "cell_type": "code",
      "source": [
        "plt.figure(figsize=(10, 5))\n",
        "sns.boxplot(x='revenue', y='sales_method', data=dataset)\n",
        "plt.title('Revenue Distribution by Sales Method')\n",
        "plt.xlabel('Sales Method')\n",
        "plt.ylabel('Revenue')\n",
        "plt.show()"
      ],
      "metadata": {
        "colab": {
          "base_uri": "https://localhost:8080/",
          "height": 487
        },
        "id": "VJ0cOaIyCnqP",
        "outputId": "399b1755-2168-4f0d-8fee-7f465a01775e"
      },
      "id": "VJ0cOaIyCnqP",
      "execution_count": 159,
      "outputs": [
        {
          "output_type": "display_data",
          "data": {
            "text/plain": [
              "<Figure size 1000x500 with 1 Axes>"
            ],
            "image/png": "[encoded data removed]"
          },
          "metadata": {}
        }
      ]
    },
    {
      "cell_type": "markdown",
      "source": [
        "The above box plot reveals the distribution of revenue for three different sales methods:\n",
        "\n",
        "1. **Email**:\n",
        "   - Revenue is typically high, with most values between 90 and 120.\n",
        "   - Median revenue is around 90.\n",
        "   - There are several high-value outliers above 125.\n",
        "\n",
        "2. **Email + Call**:\n",
        "   - Revenue has a wide spread, ranging from 120 to 240.\n",
        "   - Median revenue is around 180.\n",
        "   - A few low-value outliers are present below 100.\n",
        "\n",
        "3. **Call**:\n",
        "   - Revenue is generally lower, mostly between 40 and 55.\n",
        "   - Median revenue is almost 50.\n",
        "   - A few outliers exist above 65.\n",
        "\n",
        "To summarize, the **Email** method generates higher revenue with some high outliers, the **Email + Call** method shows a broad revenue range with a higher median, and the **Call** method results in lower revenue with a few outliers.\n"
      ],
      "metadata": {
        "id": "g-tmnE4PCg1o"
      },
      "id": "g-tmnE4PCg1o"
    },
    {
      "cell_type": "markdown",
      "source": [
        "### Was there any difference in revenue over time for each of the methods?\n",
        "\n"
      ],
      "metadata": {
        "id": "Vi5TCYkWDGwy"
      },
      "id": "Vi5TCYkWDGwy"
    },
    {
      "cell_type": "code",
      "source": [
        "plt.figure(figsize=(8, 5))\n",
        "sns.lineplot(x='week', y='revenue', hue='sales_method', errorbar=None, data=dataset)\n",
        "plt.title('Revenue Over Time for Each Sales Method')\n",
        "plt.xlabel('Week')\n",
        "plt.ylabel('Revenue')\n",
        "plt.show()"
      ],
      "metadata": {
        "colab": {
          "base_uri": "https://localhost:8080/",
          "height": 487
        },
        "id": "CleSXSrSDN5R",
        "outputId": "f487efed-0f89-4d9a-ea79-776beb07d753"
      },
      "id": "CleSXSrSDN5R",
      "execution_count": 160,
      "outputs": [
        {
          "output_type": "display_data",
          "data": {
            "text/plain": [
              "<Figure size 800x500 with 1 Axes>"
            ],
            "image/png": "[encoded data removed]"
          },
          "metadata": {}
        }
      ]
    },
    {
      "cell_type": "markdown",
      "source": [
        "The above line plot gives us the following findings:\n",
        "\n",
        "- The 'Email + Call' method shows the most substantial and consistent increase in revenue over time.\n",
        "- The 'Email' method also shows an increasing trend but with more fluctuations.\n",
        "- The 'Call' method has the lowest and flattest revenue trend over time.\n",
        "\n",
        "This indicates that combining email and call methods tends to generate higher and steadily increasing revenue over time compared to using email or call methods alone.\n",
        "\n"
      ],
      "metadata": {
        "id": "u_vJH4rzDMoI"
      },
      "id": "u_vJH4rzDMoI"
    },
    {
      "cell_type": "markdown",
      "source": [
        "##6. Conclusions"
      ],
      "metadata": {
        "id": "OBnZYiZBEeLt"
      },
      "id": "OBnZYiZBEeLt"
    },
    {
      "cell_type": "markdown",
      "source": [
        "### Recommended Method\n",
        "As it is clear from the above visualizations, the 'Email + Call' sales method generates much more revenue as compared to the other 2 approaches, it has the most substantial and consistent increase in revenue over time compared to the other 2. Also taking in consideration the effort of the Sales team to perform each of these methods, which shows that the most convenient method is 'Email', followed by 'Email + Call', and lastly 'Call'. Taking all these factors into account, it's recommended to continue using the 'Email' and 'Email + Call' methods, and phase out the usage of 'Call' method."
      ],
      "metadata": {
        "id": "rHAlMXytEsLn"
      },
      "id": "rHAlMXytEsLn"
    },
    {
      "source": [
        "### Business Metrics\n",
        "The goal of the business is to select the most effective sales approach. For this purpose, the metric I've chosen is **'Average Revenue Per Each Sales Approach'**. This takes into account the total revenue generated by each approach, and also the total number of customers for each of the approaches.\n",
        "\n",
        "The business should take into consideration this metric to select the best sales approach. Based on the given data, the average revenue for 'Email + Call' approach is approximately 171, 97 for 'Email', and 49 for 'Call'."
      ],
      "metadata": {
        "id": "3a99449a-2e2b-4ebd-8b7f-a0900e588734"
      },
      "cell_type": "markdown",
      "id": "3a99449a-2e2b-4ebd-8b7f-a0900e588734"
    },
    {
      "source": [
        "### Recommendations\n",
        "The following steps are recommended:\n",
        "- Increase the usage of 'Email + Call' sales approach as it's the most effective, based on the data.\n",
        "- Decrease but not finish the usage of 'Email' approach, as it's also somewhat effective.\n",
        "- Completely finish the usage of 'Call' approach as it not only requires a lot of human effort, but also plays a very minor role in revenue generation as compared to the other 2 approaches.\n",
        "- If possible, try to reduce the effort taken for the 'Email + Call' approach to increase efficiency."
      ],
      "metadata": {
        "id": "862979eb-176d-4856-84f1-7f9d3262d2f5"
      },
      "cell_type": "markdown",
      "id": "862979eb-176d-4856-84f1-7f9d3262d2f5"
    }
  ],
  "metadata": {
    "colab": {
      "provenance": []
    },
    "kernelspec": {
      "display_name": "Python 3 (ipykernel)",
      "language": "python",
      "name": "python3"
    },
    "language_info": {
      "codemirror_mode": {
        "name": "ipython",
        "version": 3
      },
      "file_extension": ".py",
      "mimetype": "text/x-python",
      "name": "python",
      "nbconvert_exporter": "python",
      "pygments_lexer": "ipython3",
      "version": "3.8.10"
    }
  },
  "nbformat": 4,
  "nbformat_minor": 5
}